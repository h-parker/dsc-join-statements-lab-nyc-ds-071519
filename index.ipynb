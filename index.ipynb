{
 "cells": [
  {
   "cell_type": "markdown",
   "metadata": {},
   "source": [
    "# Join Statements - Lab\n",
    "\n",
    "## Introduction\n",
    "\n",
    "In this lab, you'll practice your knowledge of join statements, using various types of joins and various methods for specifying the links between them.\n",
    "\n",
    "## Objectives\n",
    "\n",
    "You will be able to:\n",
    "- Write queries that make use of various types of Joins\n",
    "- Join tables using foreign keys"
   ]
  },
  {
   "cell_type": "markdown",
   "metadata": {},
   "source": [
    "## CRM Schema\n",
    "\n",
    "In almost all cases, rather then just working with a single table you will typically need data from multiple tables. \n",
    "Doing this requires the use of **joins ** using shared columns from the two tables. \n",
    "\n",
    "In this lab, you'll use the same Customer Relationship Management (CRM) database that you saw from the previous lesson.\n",
    "<img src='images/Database-Schema.png' width=\"600\">"
   ]
  },
  {
   "cell_type": "markdown",
   "metadata": {},
   "source": [
    "## Connecting to the Database\n",
    "Import the necessary packages and connect to the database **data.sqlite**."
   ]
  },
  {
   "cell_type": "code",
   "execution_count": 36,
   "metadata": {},
   "outputs": [
    {
     "data": {
      "text/plain": [
       "[(110,)]"
      ]
     },
     "execution_count": 36,
     "metadata": {},
     "output_type": "execute_result"
    }
   ],
   "source": [
    "import sqlite3\n",
    "conn = sqlite3.connect('data.sqlite')\n",
    "c = conn.cursor()\n",
    "c.execute(\"\"\"SELECT COUNT(*) from products\"\"\")\n",
    "c.fetchall()"
   ]
  },
  {
   "cell_type": "markdown",
   "metadata": {},
   "source": [
    "## Display the names of all the employees in Boston.\n",
    "Hint: join the employees and offices tables."
   ]
  },
  {
   "cell_type": "code",
   "execution_count": 3,
   "metadata": {},
   "outputs": [
    {
     "data": {
      "text/plain": [
       "[('Julie', 'Firrelli'), ('Steve', 'Patterson')]"
      ]
     },
     "execution_count": 3,
     "metadata": {},
     "output_type": "execute_result"
    }
   ],
   "source": [
    "c.execute(\"\"\"SELECT employees.firstName, employees.lastName \n",
    "                    FROM employees\n",
    "                    JOIN offices USING(officeCode)\n",
    "                    WHERE offices.city = 'Boston' \"\"\")\n",
    "c.fetchall()"
   ]
  },
  {
   "cell_type": "markdown",
   "metadata": {},
   "source": [
    "## Do any offices have no employees?\n",
    "Hint: Combine the employees and offices tables and use a group by."
   ]
  },
  {
   "cell_type": "code",
   "execution_count": 11,
   "metadata": {},
   "outputs": [
    {
     "data": {
      "text/plain": [
       "[(6, 'San Francisco'),\n",
       " (2, 'Boston'),\n",
       " (2, 'NYC'),\n",
       " (5, 'Paris'),\n",
       " (2, 'Tokyo'),\n",
       " (4, 'Sydney'),\n",
       " (2, 'London')]"
      ]
     },
     "execution_count": 11,
     "metadata": {},
     "output_type": "execute_result"
    }
   ],
   "source": [
    "c.execute(\"\"\"SELECT COUNT(*), city\n",
    "                    FROM offices\n",
    "                    LEFT JOIN employees USING(officeCode)\n",
    "                    GROUP BY officeCode\"\"\")\n",
    "c.fetchall()"
   ]
  },
  {
   "cell_type": "markdown",
   "metadata": {},
   "source": [
    "## Write 3 Questions of your own and answer them"
   ]
  },
  {
   "cell_type": "code",
   "execution_count": null,
   "metadata": {},
   "outputs": [],
   "source": [
    "# Answers will vary"
   ]
  },
  {
   "cell_type": "code",
   "execution_count": 47,
   "metadata": {},
   "outputs": [
    {
     "data": {
      "text/plain": [
       "[(53, '1992 Ferrari 360 Spider red')]"
      ]
     },
     "execution_count": 47,
     "metadata": {},
     "output_type": "execute_result"
    }
   ],
   "source": [
    "# What products has been ordered most?\n",
    "c.execute(\"\"\"SELECT COUNT(p.productName), p.productName \n",
    "                FROM products p\n",
    "                JOIN orderdetails o USING(productCode)\n",
    "                GROUP BY p.productName\n",
    "                ORDER BY COUNT(p.productName) DESC\n",
    "                LIMIT 1\"\"\")\n",
    "c.fetchall()"
   ]
  },
  {
   "cell_type": "code",
   "execution_count": 53,
   "metadata": {},
   "outputs": [
    {
     "data": {
      "text/plain": [
       "[(6, 'Leslie', 'Jennings'),\n",
       " (6, 'Leslie', 'Thompson'),\n",
       " (6, 'Julie', 'Firrelli'),\n",
       " (6, 'Steve', 'Patterson'),\n",
       " (7, 'Foon Yue', 'Tseng'),\n",
       " (8, 'George', 'Vanauf'),\n",
       " (6, 'Loui', 'Bondur'),\n",
       " (7, 'Gerard', 'Hernandez'),\n",
       " (10, 'Pamela', 'Castillo'),\n",
       " (8, 'Larry', 'Bott'),\n",
       " (9, 'Barry', 'Jones'),\n",
       " (5, 'Andy', 'Fixter'),\n",
       " (5, 'Peter', 'Marsh'),\n",
       " (5, 'Mami', 'Nishi'),\n",
       " (6, 'Martin', 'Gerard')]"
      ]
     },
     "execution_count": 53,
     "metadata": {},
     "output_type": "execute_result"
    }
   ],
   "source": [
    "# How many customers does each employee have?\n",
    "c.execute(\"\"\"SELECT COUNT(e.employeeNumber), e.firstName, e.lastName\n",
    "                    FROM customers c\n",
    "                    JOIN employees e ON \n",
    "                        c.salesRepEmployeeNumber = e.employeeNumber\n",
    "                    GROUP BY e.employeeNumber\"\"\")\n",
    "c.fetchall()"
   ]
  },
  {
   "cell_type": "code",
   "execution_count": 66,
   "metadata": {},
   "outputs": [
    {
     "data": {
      "text/plain": [
       "[(14231,)]"
      ]
     },
     "execution_count": 66,
     "metadata": {},
     "output_type": "execute_result"
    }
   ],
   "source": [
    "# Which employee sold the most products?\n",
    "c.execute(\"\"\"SELECT SUM(od.quantityOrdered), e.firstNa \n",
    "                    FROM orderdetails od\n",
    "                    JOIN orders o USING(orderNumber)\n",
    "                    JOIN customers c USING(customerNumber)\n",
    "                    JOIN employees e ON\n",
    "                         c.salesRepEmployeeNumber = e.employeeNumber\n",
    "                    GROUP BY e.employeeNumber\n",
    "                    ORDER BY SUM(od.quantityOrdered) DESC\n",
    "                    LIMIT 1\n",
    "                    \"\"\")\n",
    "c.fetchall()"
   ]
  },
  {
   "cell_type": "markdown",
   "metadata": {},
   "source": [
    "## Level Up: Display the names of each product each employee has sold"
   ]
  },
  {
   "cell_type": "code",
   "execution_count": 31,
   "metadata": {},
   "outputs": [
    {
     "data": {
      "text/plain": [
       "[('Gerard', 'Hernandez', '103'),\n",
       " ('Leslie', 'Thompson', '112'),\n",
       " ('Andy', 'Fixter', '114'),\n",
       " ('Gerard', 'Hernandez', '119'),\n",
       " ('Barry', 'Jones', '121'),\n",
       " ('Leslie', 'Jennings', '124'),\n",
       " ('Barry', 'Jones', '128'),\n",
       " ('Leslie', 'Jennings', '129'),\n",
       " ('George', 'Vanauf', '131'),\n",
       " ('Gerard', 'Hernandez', '141'),\n",
       " ('Barry', 'Jones', '144'),\n",
       " ('Pamela', 'Castillo', '145'),\n",
       " ('Loui', 'Bondur', '146'),\n",
       " ('Mami', 'Nishi', '148'),\n",
       " ('Foon Yue', 'Tseng', '151'),\n",
       " ('Steve', 'Patterson', '157'),\n",
       " ('Leslie', 'Jennings', '161'),\n",
       " ('Peter', 'Marsh', '166'),\n",
       " ('Barry', 'Jones', '167'),\n",
       " ('Foon Yue', 'Tseng', '168'),\n",
       " ('Gerard', 'Hernandez', '171'),\n",
       " ('Loui', 'Bondur', '172'),\n",
       " ('Julie', 'Firrelli', '173'),\n",
       " ('George', 'Vanauf', '175'),\n",
       " ('Mami', 'Nishi', '177'),\n",
       " ('Foon Yue', 'Tseng', '181'),\n",
       " ('Larry', 'Bott', '186'),\n",
       " ('Larry', 'Bott', '187'),\n",
       " ('Barry', 'Jones', '189'),\n",
       " ('Steve', 'Patterson', '198'),\n",
       " ('Larry', 'Bott', '201'),\n",
       " ('George', 'Vanauf', '202'),\n",
       " ('Julie', 'Firrelli', '204'),\n",
       " ('Leslie', 'Thompson', '205'),\n",
       " ('Gerard', 'Hernandez', '209'),\n",
       " ('Mami', 'Nishi', '211'),\n",
       " ('Martin', 'Gerard', '216'),\n",
       " ('Leslie', 'Thompson', '219'),\n",
       " ('Pamela', 'Castillo', '227'),\n",
       " ('Foon Yue', 'Tseng', '233'),\n",
       " ('Leslie', 'Thompson', '239'),\n",
       " ('Larry', 'Bott', '240'),\n",
       " ('Gerard', 'Hernandez', '242'),\n",
       " ('Pamela', 'Castillo', '249'),\n",
       " ('Loui', 'Bondur', '250'),\n",
       " ('Gerard', 'Hernandez', '256'),\n",
       " ('Barry', 'Jones', '259'),\n",
       " ('George', 'Vanauf', '260'),\n",
       " ('Andy', 'Fixter', '276'),\n",
       " ('Pamela', 'Castillo', '278'),\n",
       " ('Andy', 'Fixter', '282'),\n",
       " ('Steve', 'Patterson', '286'),\n",
       " ('Martin', 'Gerard', '298'),\n",
       " ('Barry', 'Jones', '299'),\n",
       " ('Larry', 'Bott', '311'),\n",
       " ('Pamela', 'Castillo', '314'),\n",
       " ('George', 'Vanauf', '319'),\n",
       " ('Julie', 'Firrelli', '320'),\n",
       " ('Leslie', 'Jennings', '321'),\n",
       " ('Peter', 'Marsh', '323'),\n",
       " ('Larry', 'Bott', '324'),\n",
       " ('George', 'Vanauf', '328'),\n",
       " ('Andy', 'Fixter', '333'),\n",
       " ('Larry', 'Bott', '334'),\n",
       " ('Julie', 'Firrelli', '339'),\n",
       " ('Martin', 'Gerard', '344'),\n",
       " ('Leslie', 'Thompson', '347'),\n",
       " ('Loui', 'Bondur', '350'),\n",
       " ('Loui', 'Bondur', '353'),\n",
       " ('Peter', 'Marsh', '357'),\n",
       " ('Steve', 'Patterson', '362'),\n",
       " ('Steve', 'Patterson', '363'),\n",
       " ('Martin', 'Gerard', '376'),\n",
       " ('Julie', 'Firrelli', '379'),\n",
       " ('Pamela', 'Castillo', '381'),\n",
       " ('Pamela', 'Castillo', '382'),\n",
       " ('Mami', 'Nishi', '385'),\n",
       " ('Pamela', 'Castillo', '386'),\n",
       " ('Mami', 'Nishi', '398'),\n",
       " ('Loui', 'Bondur', '406'),\n",
       " ('Peter', 'Marsh', '412'),\n",
       " ('Barry', 'Jones', '415'),\n",
       " ('Foon Yue', 'Tseng', '424'),\n",
       " ('George', 'Vanauf', '447'),\n",
       " ('Barry', 'Jones', '448'),\n",
       " ('Leslie', 'Jennings', '450'),\n",
       " ('Pamela', 'Castillo', '452'),\n",
       " ('Foon Yue', 'Tseng', '455'),\n",
       " ('Foon Yue', 'Tseng', '456'),\n",
       " ('Martin', 'Gerard', '458'),\n",
       " ('Steve', 'Patterson', '462'),\n",
       " ('Andy', 'Fixter', '471'),\n",
       " ('Pamela', 'Castillo', '473'),\n",
       " ('Leslie', 'Thompson', '475'),\n",
       " ('Martin', 'Gerard', '484'),\n",
       " ('George', 'Vanauf', '486'),\n",
       " ('Leslie', 'Jennings', '487'),\n",
       " ('Larry', 'Bott', '489'),\n",
       " ('Julie', 'Firrelli', '495'),\n",
       " ('Peter', 'Marsh', '496')]"
      ]
     },
     "execution_count": 31,
     "metadata": {},
     "output_type": "execute_result"
    }
   ],
   "source": [
    "# select product name and employee name\n",
    "# salesrep & order number from customers, customer to cust num\n",
    "# product code from  \n",
    "# order details (accessed using order num),\n",
    "# product name from products (accessed using product code)\n",
    "\n",
    "c.execute(\"\"\"SELECT emp.firstName, emp.lastName, \n",
    "                    \n",
    "                        \"\"\")\n",
    "\n",
    "# c.execute(\"\"\"SELECT emp.firstName, emp.lastName, \n",
    "#                     prod.productName\n",
    "#                     FROM customers cust\n",
    "#                     JOIN employees emp\n",
    "#                         ON cust.salesRepEmployeeNumber = emp.employeeNumber\n",
    "#                     JOIN orders USING(customerNumber)\n",
    "#                     JOIN orderdetails od USING(orderNumber)\n",
    "#                     JOIN products prod USING(productCode)\n",
    "#                     \"\"\")\n",
    "c.fetchall()"
   ]
  },
  {
   "cell_type": "markdown",
   "metadata": {},
   "source": [
    "## Level Up: Display the Number of Products each employee has sold"
   ]
  },
  {
   "cell_type": "code",
   "execution_count": null,
   "metadata": {},
   "outputs": [],
   "source": [
    "#Your code here"
   ]
  },
  {
   "cell_type": "markdown",
   "metadata": {},
   "source": [
    "## Summary"
   ]
  },
  {
   "cell_type": "markdown",
   "metadata": {},
   "source": [
    "Congrats! You now know how to use join statements, along with leveraging your foreign keys knowledge!"
   ]
  }
 ],
 "metadata": {
  "kernelspec": {
   "display_name": "Python 3",
   "language": "python",
   "name": "python3"
  },
  "language_info": {
   "codemirror_mode": {
    "name": "ipython",
    "version": 3
   },
   "file_extension": ".py",
   "mimetype": "text/x-python",
   "name": "python",
   "nbconvert_exporter": "python",
   "pygments_lexer": "ipython3",
   "version": "3.7.3"
  }
 },
 "nbformat": 4,
 "nbformat_minor": 2
}
